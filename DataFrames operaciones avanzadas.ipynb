{
 "cells": [
  {
   "cell_type": "markdown",
   "metadata": {},
   "source": [
    "# Operaciones avanzadas con DataFrames"
   ]
  },
  {
   "cell_type": "markdown",
   "metadata": {},
   "source": [
    "## Descripción de las variables"
   ]
  },
  {
   "cell_type": "markdown",
   "metadata": {},
   "source": [
    "El dataset, obtenido de <a target = \"_blank\" href=\"https://www.transtats.bts.gov/Fields.asp?Table_ID=236\">este link</a> está compuesto por las siguientes variables referidas siempre al año 2018:\n",
    "\n",
    "1. **Month** 1-4\n",
    "2. **DayofMonth** 1-31\n",
    "3. **DayOfWeek** 1 (Monday) - 7 (Sunday)\n",
    "4. **FlightDate** fecha del vuelo\n",
    "5. **Origin** código IATA del aeropuerto de origen\n",
    "6. **OriginCity** ciudad donde está el aeropuerto de origen\n",
    "7. **Dest** código IATA del aeropuerto de destino\n",
    "8. **DestCity** ciudad donde está el aeropuerto de destino  \n",
    "9. **DepTime** hora real de salida (local, hhmm)\n",
    "10. **DepDelay** retraso a la salida, en minutos\n",
    "11. **ArrTime** hora real de llegada (local, hhmm)\n",
    "12. **ArrDelay** retraso a la llegada, en minutos: se considera que un vuelo ha llegado \"on time\" si aterrizó menos de 15 minutos más tarde de la hora prevista en el Computerized Reservations Systems (CRS).\n",
    "13. **Cancelled** si el vuelo fue cancelado (1 = sí, 0 = no)\n",
    "14. **CancellationCode** razón de cancelación (A = aparato, B = tiempo atmosférico, C = NAS, D = seguridad)\n",
    "15. **Diverted** si el vuelo ha sido desviado (1 = sí, 0 = no)\n",
    "16. **ActualElapsedTime** tiempo real invertido en el vuelo\n",
    "17. **AirTime** en minutos\n",
    "18. **Distance** en millas\n",
    "19. **CarrierDelay** en minutos: El retraso del transportista está bajo el control del transportista aéreo. Ejemplos de sucesos que pueden determinar el retraso del transportista son: limpieza de la aeronave, daño de la aeronave, espera de la llegada de los pasajeros o la tripulación de conexión, equipaje, impacto de un pájaro, carga de equipaje, servicio de comidas, computadora, equipo del transportista, problemas legales de la tripulación (descanso del piloto o acompañante) , daños por mercancías peligrosas, inspección de ingeniería, abastecimiento de combustible, pasajeros discapacitados, tripulación retrasada, servicio de inodoros, mantenimiento, ventas excesivas, servicio de agua potable, denegación de viaje a pasajeros en mal estado, proceso de embarque muy lento, equipaje de mano no válido, retrasos de peso y equilibrio.\n",
    "20. **WeatherDelay** en minutos: causado por condiciones atmosféricas extremas o peligrosas, previstas o que se han manifestado antes del despegue, durante el viaje, o a la llegada.\n",
    "21. **NASDelay** en minutos: retraso causado por el National Airspace System (NAS) por motivos como condiciones meteorológicas (perjudiciales pero no extremas), operaciones del aeropuerto, mucho tráfico aéreo, problemas con los controladores aéreos, etc.\n",
    "22. **SecurityDelay** en minutos: causado por la evacuación de una terminal, re-embarque de un avión debido a brechas en la seguridad, fallos en dispositivos del control de seguridad, colas demasiado largas en el control de seguridad, etc.\n",
    "23. **LateAircraftDelay** en minutos: debido al propio retraso del avión al llegar, problemas para conseguir aterrizar en un aeropuerto a una hora más tardía de la que estaba prevista."
   ]
  },
  {
   "cell_type": "code",
   "execution_count": 35,
   "metadata": {},
   "outputs": [],
   "source": [
    "import pyspark.sql.functions as F\n",
    "from pyspark.sql.types import IntegerType\n",
    "\n",
    "# Leemos los datos y quitamos filas con NA y convertimos a numéricas las columnas inferidas incorrectamente\n",
    "flightsDF = spark.read\\\n",
    "                 .option(\"header\", \"true\")\\\n",
    "                 .option(\"inferSchema\", \"true\")\\\n",
    "                 .csv(\"C:/Users/nerea.gomez/Documents/Documentacion/Ejercicios DataFrames/flights-jan-apr-2018.csv\")\n",
    "\n",
    "# Convertimos a enteros y re-categorizamos ArrDelay en una nueva columna ArrDelayCat\n",
    "# None (< 15 min), Slight(entre 15 y 60 min), Huge (> 60 min)\n",
    "\n",
    "cleanFlightsDF = flightsDF.withColumn(\"ArrDelayCat\", F.when(F.col(\"ArrDelay\") < 15, \"None\")\\\n",
    "                                                      .when((F.col(\"ArrDelay\") >= 15) & (F.col(\"ArrDelay\") < 60), \"Slight\")\\\n",
    "                                                      .otherwise(\"Huge\"))\\\n",
    "                           .cache()"
   ]
  },
  {
   "cell_type": "markdown",
   "metadata": {},
   "source": [
    "## Hagamos algunas preguntas a los datos para obtener conclusiones"
   ]
  },
  {
   "cell_type": "markdown",
   "metadata": {},
   "source": [
    "Imaginemos que somos los dueños de una web de viajes que rastrea internet en busca de vuelos en agencias y otras páginas, los compara y recomienda el más adecuado para el aeropuerto. Junto con esta recomendación, querríamos dar también información sobre vuelos fiables y no fiables en lo que respecta a la puntualidad. Esto depende de muchos factores, como el origen y destino, duración del vuelo, hora del día, etc."
   ]
  },
  {
   "cell_type": "markdown",
   "metadata": {},
   "source": [
    "### Agrupación y agregaciones"
   ]
  },
  {
   "cell_type": "markdown",
   "metadata": {},
   "source": [
    "<div class=\"alert alert-block alert-success\">\n",
    "<p><b>PREGUNTA</b>: ¿Cuáles son los vuelos (origen, destino) con mayor retraso medio? ¿Cuántos vuelos existen entre cada par de aeropuertos?</p>\n",
    "<p><b>PISTA</b>: Tras hacer las agregaciones para cada pareja \"Origin\", \"Dest\" (una agregación para el retraso medio y otra para contar), aplica el método sort(F.col(\"avgDelay\").desc()) para ordenar de forma decreciente por la nueva columna del retraso medio.\n",
    "</div>"
   ]
  },
  {
   "cell_type": "code",
   "execution_count": 80,
   "metadata": {},
   "outputs": [],
   "source": [
    "from pyspark.sql.functions import *"
   ]
  },
  {
   "cell_type": "code",
   "execution_count": 85,
   "metadata": {
    "scrolled": false
   },
   "outputs": [
    {
     "name": "stdout",
     "output_type": "stream",
     "text": [
      "+------+----+------------------+------------------+-----+\n",
      "|Origin|Dest|          R_salida|         R_llegada|count|\n",
      "+------+----+------------------+------------------+-----+\n",
      "|   RDM| MFR|             814.0|            1347.0|    2|\n",
      "|   MDT| HPN|             759.0|             798.0|    1|\n",
      "|   DSM| CID|             295.0|              null|    1|\n",
      "|   ORD| GTF|             257.0|             212.0|    1|\n",
      "|   ELM| ATL|             194.0|             169.0|    2|\n",
      "|   ICT| DAY|             181.0|             210.0|    1|\n",
      "|   ABE| MDT|             175.0|              null|    1|\n",
      "|   ERI| ITH|             156.0|             160.0|    1|\n",
      "|   DSM| PIA|             155.0|             168.0|    1|\n",
      "|   CMH| HOU|             148.0|             120.0|    1|\n",
      "|   CRP| BRO|             147.0|              null|    1|\n",
      "|   LBB| SAF|             134.0|              null|    1|\n",
      "|   AVP| SFB|             113.0|              93.0|    1|\n",
      "|   YNG| PIE|             111.0|             141.0|    1|\n",
      "|   PPG| HNL|110.68571428571428|109.85714285714286|   35|\n",
      "|   HNL| PPG|105.08571428571429|105.85714285714286|   35|\n",
      "|   MSP| PVD|             102.0|              74.0|    1|\n",
      "|   GTF| BZN|             101.0|              null|    1|\n",
      "|   CPR| LAS|             100.0|              85.0|    1|\n",
      "|   PIE| YNG|              89.0|             104.0|    1|\n",
      "+------+----+------------------+------------------+-----+\n",
      "only showing top 20 rows\n",
      "\n"
     ]
    }
   ],
   "source": [
    "most_delay=cleanFlightsDF.groupBy(\"Origin\",\"Dest\")\\\n",
    "            .agg(\n",
    "                    F.mean(\"DepDelay\").alias(\"R_salida\"),\\\n",
    "                    F.mean(\"ArrDelay\").alias(\"R_llegada\"),\\\n",
    "                    F.count(\"*\").alias(\"count\"))\\\n",
    "            .orderBy(col(\"R_salida\").desc_nulls_last(),\\\n",
    "                     col(\"R_llegada\").desc_nulls_last())\n",
    "most_delay.show()"
   ]
  },
  {
   "cell_type": "code",
   "execution_count": 4,
   "metadata": {},
   "outputs": [],
   "source": [
    "from pyspark.sql import functions as F"
   ]
  },
  {
   "cell_type": "code",
   "execution_count": 86,
   "metadata": {
    "scrolled": true
   },
   "outputs": [
    {
     "name": "stdout",
     "output_type": "stream",
     "text": [
      "+-------------+--------+\n",
      "|combinaciones|n_vuelos|\n",
      "+-------------+--------+\n",
      "|      LGA-CVG|     925|\n",
      "|      IDA-LAS|      35|\n",
      "|      LAX-MTJ|      64|\n",
      "|      PIE-PIA|      46|\n",
      "|      AUS-CLE|      41|\n",
      "+-------------+--------+\n",
      "only showing top 5 rows\n",
      "\n"
     ]
    }
   ],
   "source": [
    "combinaciones= cleanFlightsDF.withColumn(\"combinaciones\", F.concat_ws(\"-\",\"Origin\",\"Dest\"))\\\n",
    "                            .select(\"combinaciones\")\\\n",
    "                            .groupBy(\"combinaciones\")\\\n",
    "                            .agg(F.count(\"combinaciones\").alias(\"n_vuelos\"))\n",
    "combinaciones.show(5)"
   ]
  },
  {
   "cell_type": "code",
   "execution_count": 88,
   "metadata": {},
   "outputs": [
    {
     "name": "stdout",
     "output_type": "stream",
     "text": [
      "+-------------+-------------+--------------+\n",
      "|combinaciones|Retraso_medio|Number_flights|\n",
      "+-------------+-------------+--------------+\n",
      "|      RDM-MFR|       1347.0|             2|\n",
      "|      MDT-HPN|        798.0|             1|\n",
      "|      ORD-GTF|        212.0|             1|\n",
      "|      ICT-DAY|        210.0|             1|\n",
      "|      ELM-ATL|        169.0|             2|\n",
      "|      DSM-PIA|        168.0|             1|\n",
      "|      ERI-ITH|        160.0|             1|\n",
      "|      YNG-PIE|        141.0|             1|\n",
      "|      CMH-HOU|        120.0|             1|\n",
      "|      HRL-DAL|        111.0|             1|\n",
      "+-------------+-------------+--------------+\n",
      "only showing top 10 rows\n",
      "\n"
     ]
    }
   ],
   "source": [
    "combinaciones2= cleanFlightsDF.withColumn(\"combinaciones\", F.concat_ws(\"-\",\"Origin\",\"Dest\"))\\\n",
    "                .groupBy(\"combinaciones\")\\\n",
    "                .agg(F.avg(\"ArrDelay\").alias(\"Retraso_medio\"),\\\n",
    "                     F.count(\"*\").alias(\"Number_flights\"))\\\n",
    "                .sort(F.col(\"Retraso_medio\").desc())\n",
    "combinaciones2.show(10)"
   ]
  },
  {
   "cell_type": "markdown",
   "metadata": {},
   "source": [
    "<div class=\"alert alert-block alert-success\">\n",
    "<p><b>PREGUNTA</b>: ¿Es el avión un medio de transporte fiable? Mostrar el número de vuelos en cada categoría de retraso.</p>\n",
    "En lugar de llamar agg(F.count(\"*\")), podemos llamar a la transformación count() sobre el resultado de groupBy(), y creará\n",
    "automáticamente una columna llamada \"count\" con los conteos para cada grupo.\n",
    "<p> Ahora agrupar también por cada aeropuerto de origen, y mostrando una columna distinta por cada tipo de retraso, con el recuento. PISTA: utilizar la función pivot(\"colName\").</p>"
   ]
  },
  {
   "cell_type": "code",
   "execution_count": 7,
   "metadata": {},
   "outputs": [
    {
     "name": "stdout",
     "output_type": "stream",
     "text": [
      "+-----------+------------------+\n",
      "|ArrDelayCat|count(ArrDelayCat)|\n",
      "+-----------+------------------+\n",
      "|     Slight|            298234|\n",
      "|       None|           2004727|\n",
      "|       Huge|            200152|\n",
      "+-----------+------------------+\n",
      "\n"
     ]
    }
   ],
   "source": [
    "retrasos = cleanFlightsDF.select(\"ArrDelayCat\")\\\n",
    "            .groupBy(\"ArrDelayCat\")\\\n",
    "            .agg(F.count(\"ArrDelayCat\"))\n",
    "retrasos.show()"
   ]
  },
  {
   "cell_type": "code",
   "execution_count": 8,
   "metadata": {},
   "outputs": [
    {
     "name": "stdout",
     "output_type": "stream",
     "text": [
      "+-----------+-------+\n",
      "|ArrDelayCat|  count|\n",
      "+-----------+-------+\n",
      "|     Slight| 298234|\n",
      "|       None|2004727|\n",
      "|       Huge| 200152|\n",
      "+-----------+-------+\n",
      "\n"
     ]
    }
   ],
   "source": [
    "retrasos = cleanFlightsDF.select(\"ArrDelayCat\")\\\n",
    "            .groupBy(\"ArrDelayCat\").count()\n",
    "retrasos.show()"
   ]
  },
  {
   "cell_type": "code",
   "execution_count": 9,
   "metadata": {},
   "outputs": [
    {
     "name": "stdout",
     "output_type": "stream",
     "text": [
      "+------------------+----+-----+------+\n",
      "|        OriginCity|Huge| None|Slight|\n",
      "+------------------+----+-----+------+\n",
      "|   Gainesville, FL| 139| 1147|   162|\n",
      "|       Ontario, CA| 302| 5768|   771|\n",
      "|     Pago Pago, TT|   4|   21|    10|\n",
      "|      Richmond, VA|1013| 6686|  1055|\n",
      "|        Tucson, AZ| 344| 5544|   710|\n",
      "|       Medford, OR| 152| 1943|   271|\n",
      "|  Myrtle Beach, SC| 262| 2335|   290|\n",
      "|  Palm Springs, CA| 309| 3763|   444|\n",
      "|       Redding, CA|  42|  273|    34|\n",
      "|     St. Cloud, MN|   6|   54|    11|\n",
      "|   Devils Lake, ND|  21|  171|    13|\n",
      "|       Durango, CO| 104| 1013|   110|\n",
      "|        Mobile, AL| 175| 1783|   217|\n",
      "|Corpus Christi, TX| 147| 1459|   177|\n",
      "|       Dubuque, IA|  39|  259|    45|\n",
      "|    Huntsville, AL| 238| 2494|   287|\n",
      "|     Pensacola, FL| 192| 2893|   231|\n",
      "|      Columbus, GA|  40|  320|    43|\n",
      "|    Fort Myers, FL|1174|12202|  1601|\n",
      "|        Yakima, WA|  12|  348|    61|\n",
      "+------------------+----+-----+------+\n",
      "only showing top 20 rows\n",
      "\n"
     ]
    }
   ],
   "source": [
    "retrasos2 = cleanFlightsDF.groupBy(\"OriginCity\")\\\n",
    "            .pivot(\"ArrDelayCat\")\\\n",
    "            .agg(F.count(\"ArrDelayCat\"))\n",
    "retrasos2.show()"
   ]
  },
  {
   "cell_type": "markdown",
   "metadata": {},
   "source": [
    "<div class=\"alert alert-block alert-success\">\n",
    "<p><b>PREGUNTA</b>: ¿Hay relación entre el día de la semana y el retraso a la salida o a la llegada?</p>\n",
    "    <p><b>PISTA</b>: Calcula el retraso medio a la salida y a la llegada para cada día de la semana y ordena por una de ellas descendentemente.</p>\n",
    "    <p> Ahora haz lo mismo para cada día pero solo con el retraso a la llegada, desagregado por cada aeropuerto de salida, utilizando la función pivot(). </p>\n",
    "</div>"
   ]
  },
  {
   "cell_type": "code",
   "execution_count": 90,
   "metadata": {},
   "outputs": [
    {
     "name": "stdout",
     "output_type": "stream",
     "text": [
      "+---------+------------------+-------------------+\n",
      "|DayOfWeek|          r_salida|          r_llegada|\n",
      "+---------+------------------+-------------------+\n",
      "|        1|10.430177708665964|  5.391113068725289|\n",
      "|        2| 8.246502522185226| 2.8412409647873806|\n",
      "|        3|  8.47071347600168| 3.0525338339576717|\n",
      "|        4|  8.35856546210902| 2.7390527404801026|\n",
      "|        5|10.220785437977693|  5.027363815430113|\n",
      "|        6| 6.278199328016013|-0.5748593305876211|\n",
      "|        7| 9.142161259888235| 3.2344449424598207|\n",
      "+---------+------------------+-------------------+\n",
      "\n"
     ]
    }
   ],
   "source": [
    "retraso_sal = cleanFlightsDF.groupBy(\"DayOfWeek\")\\\n",
    "                .agg(avg(\"DepDelay\").alias(\"r_salida\"), avg(\"ArrDelay\").alias(\"r_llegada\"))\\\n",
    "                .orderBy(col(\"DayOfWeek\").asc())\n",
    "retraso_sal.show()"
   ]
  },
  {
   "cell_type": "code",
   "execution_count": 93,
   "metadata": {},
   "outputs": [
    {
     "data": {
      "text/html": [
       "<div>\n",
       "<style scoped>\n",
       "    .dataframe tbody tr th:only-of-type {\n",
       "        vertical-align: middle;\n",
       "    }\n",
       "\n",
       "    .dataframe tbody tr th {\n",
       "        vertical-align: top;\n",
       "    }\n",
       "\n",
       "    .dataframe thead th {\n",
       "        text-align: right;\n",
       "    }\n",
       "</style>\n",
       "<table border=\"1\" class=\"dataframe\">\n",
       "  <thead>\n",
       "    <tr style=\"text-align: right;\">\n",
       "      <th></th>\n",
       "      <th>Origin</th>\n",
       "      <th>1</th>\n",
       "      <th>2</th>\n",
       "      <th>3</th>\n",
       "      <th>4</th>\n",
       "      <th>5</th>\n",
       "      <th>6</th>\n",
       "      <th>7</th>\n",
       "    </tr>\n",
       "  </thead>\n",
       "  <tbody>\n",
       "    <tr>\n",
       "      <th>0</th>\n",
       "      <td>ABE</td>\n",
       "      <td>14.953307</td>\n",
       "      <td>13.893519</td>\n",
       "      <td>15.276786</td>\n",
       "      <td>5.924370</td>\n",
       "      <td>18.183333</td>\n",
       "      <td>6.940299</td>\n",
       "      <td>10.027149</td>\n",
       "    </tr>\n",
       "    <tr>\n",
       "      <th>1</th>\n",
       "      <td>ABI</td>\n",
       "      <td>10.650000</td>\n",
       "      <td>16.364706</td>\n",
       "      <td>-0.547619</td>\n",
       "      <td>0.376344</td>\n",
       "      <td>4.641304</td>\n",
       "      <td>16.492063</td>\n",
       "      <td>4.606383</td>\n",
       "    </tr>\n",
       "    <tr>\n",
       "      <th>2</th>\n",
       "      <td>ABQ</td>\n",
       "      <td>1.442438</td>\n",
       "      <td>0.363406</td>\n",
       "      <td>1.736409</td>\n",
       "      <td>3.111111</td>\n",
       "      <td>-0.176892</td>\n",
       "      <td>-1.655721</td>\n",
       "      <td>-0.252019</td>\n",
       "    </tr>\n",
       "    <tr>\n",
       "      <th>3</th>\n",
       "      <td>ABR</td>\n",
       "      <td>10.571429</td>\n",
       "      <td>12.468750</td>\n",
       "      <td>6.294118</td>\n",
       "      <td>16.441176</td>\n",
       "      <td>8.529412</td>\n",
       "      <td>0.125000</td>\n",
       "      <td>9.117647</td>\n",
       "    </tr>\n",
       "    <tr>\n",
       "      <th>4</th>\n",
       "      <td>ABY</td>\n",
       "      <td>14.207547</td>\n",
       "      <td>3.978723</td>\n",
       "      <td>12.804348</td>\n",
       "      <td>10.645833</td>\n",
       "      <td>9.040816</td>\n",
       "      <td>29.562500</td>\n",
       "      <td>27.234043</td>\n",
       "    </tr>\n",
       "    <tr>\n",
       "      <th>...</th>\n",
       "      <td>...</td>\n",
       "      <td>...</td>\n",
       "      <td>...</td>\n",
       "      <td>...</td>\n",
       "      <td>...</td>\n",
       "      <td>...</td>\n",
       "      <td>...</td>\n",
       "      <td>...</td>\n",
       "    </tr>\n",
       "    <tr>\n",
       "      <th>351</th>\n",
       "      <td>XNA</td>\n",
       "      <td>9.592857</td>\n",
       "      <td>9.375580</td>\n",
       "      <td>6.838462</td>\n",
       "      <td>1.854015</td>\n",
       "      <td>3.877941</td>\n",
       "      <td>-0.977208</td>\n",
       "      <td>5.438861</td>\n",
       "    </tr>\n",
       "    <tr>\n",
       "      <th>352</th>\n",
       "      <td>YAK</td>\n",
       "      <td>-9.451613</td>\n",
       "      <td>-13.000000</td>\n",
       "      <td>-10.727273</td>\n",
       "      <td>2.848485</td>\n",
       "      <td>-9.470588</td>\n",
       "      <td>-12.088235</td>\n",
       "      <td>-10.090909</td>\n",
       "    </tr>\n",
       "    <tr>\n",
       "      <th>353</th>\n",
       "      <td>YKM</td>\n",
       "      <td>0.338462</td>\n",
       "      <td>-0.490909</td>\n",
       "      <td>5.666667</td>\n",
       "      <td>1.359375</td>\n",
       "      <td>6.269841</td>\n",
       "      <td>5.941176</td>\n",
       "      <td>1.603175</td>\n",
       "    </tr>\n",
       "    <tr>\n",
       "      <th>354</th>\n",
       "      <td>YNG</td>\n",
       "      <td>9.000000</td>\n",
       "      <td>NaN</td>\n",
       "      <td>NaN</td>\n",
       "      <td>141.000000</td>\n",
       "      <td>NaN</td>\n",
       "      <td>NaN</td>\n",
       "      <td>NaN</td>\n",
       "    </tr>\n",
       "    <tr>\n",
       "      <th>355</th>\n",
       "      <td>YUM</td>\n",
       "      <td>-6.819444</td>\n",
       "      <td>-8.661290</td>\n",
       "      <td>-1.588235</td>\n",
       "      <td>-4.447761</td>\n",
       "      <td>-9.088235</td>\n",
       "      <td>-12.028986</td>\n",
       "      <td>-9.367647</td>\n",
       "    </tr>\n",
       "  </tbody>\n",
       "</table>\n",
       "<p>356 rows × 8 columns</p>\n",
       "</div>"
      ],
      "text/plain": [
       "    Origin          1          2          3           4          5          6  \\\n",
       "0      ABE  14.953307  13.893519  15.276786    5.924370  18.183333   6.940299   \n",
       "1      ABI  10.650000  16.364706  -0.547619    0.376344   4.641304  16.492063   \n",
       "2      ABQ   1.442438   0.363406   1.736409    3.111111  -0.176892  -1.655721   \n",
       "3      ABR  10.571429  12.468750   6.294118   16.441176   8.529412   0.125000   \n",
       "4      ABY  14.207547   3.978723  12.804348   10.645833   9.040816  29.562500   \n",
       "..     ...        ...        ...        ...         ...        ...        ...   \n",
       "351    XNA   9.592857   9.375580   6.838462    1.854015   3.877941  -0.977208   \n",
       "352    YAK  -9.451613 -13.000000 -10.727273    2.848485  -9.470588 -12.088235   \n",
       "353    YKM   0.338462  -0.490909   5.666667    1.359375   6.269841   5.941176   \n",
       "354    YNG   9.000000        NaN        NaN  141.000000        NaN        NaN   \n",
       "355    YUM  -6.819444  -8.661290  -1.588235   -4.447761  -9.088235 -12.028986   \n",
       "\n",
       "             7  \n",
       "0    10.027149  \n",
       "1     4.606383  \n",
       "2    -0.252019  \n",
       "3     9.117647  \n",
       "4    27.234043  \n",
       "..         ...  \n",
       "351   5.438861  \n",
       "352 -10.090909  \n",
       "353   1.603175  \n",
       "354        NaN  \n",
       "355  -9.367647  \n",
       "\n",
       "[356 rows x 8 columns]"
      ]
     },
     "execution_count": 93,
     "metadata": {},
     "output_type": "execute_result"
    }
   ],
   "source": [
    "retraso_lleg = flightsDF.groupBy(\"Origin\")\\\n",
    "                .pivot(\"DayOfWeek\")\\\n",
    "                .agg(F.mean(\"ArrDelay\").alias(\"r_llegada\"))\\\n",
    "                .sort(\"Origin\").toPandas()\n",
    "retraso_lleg"
   ]
  },
  {
   "cell_type": "markdown",
   "metadata": {},
   "source": [
    "<div class=\"alert alert-block alert-info\">\n",
    "<p><b>LA FUNCIÓN PIVOT</b>: Puede ser interesante ver, para cada (Origin, Dest), el retraso promedio por\n",
    "día de la semana. Si agrupamos por esas tres variables (Origin, Dest, DayOfWeek), nuestro resultado tendría demasiadas filas para ser fácil de visualizar (7 x 1009 ya que hay 1009 combinaciones de (Origin, DayOfWeek)). En cambio, vamos a crear 7 columnas, una por día de la semana, en nuestro resultado DF. Lo haremos utilizando una de las variables de agrupación (DayOfWeek) como <i> variable pivot</i>. Como esta variable tiene 7 valores distintos, se crearán 7 columnas nuevas. De esta manera, visualizaremos toda la información de cada combinación (Origen, Dest) condensada en una fila con 7 columnas con los 7 retrasos promedio correspondientes a ese (Origen, Dest) en cada día de la semana.\n",
    "</div>"
   ]
  },
  {
   "cell_type": "markdown",
   "metadata": {},
   "source": [
    "### Operaciones JOIN y de ventana"
   ]
  },
  {
   "cell_type": "markdown",
   "metadata": {},
   "source": [
    "Estaría bien tener el retraso promedio de una ruta junto a cada vuelo, para que podamos ver qué vuelos tuvieron un retraso que fue superior o inferior al retraso promedio de esa ruta."
   ]
  },
  {
   "cell_type": "markdown",
   "metadata": {},
   "source": [
    "<div class=\"alert alert-block alert-success\">\n",
    "    <b> PREGUNTA </b>:\n",
    "Usa el averageDelayOriginDestDF creado anteriormente, elimina la columna de conteo y luego únerlo con cleanFlightsDF, utilizando Origin y Dest como columnas de enlace. Finalmente, selecciona solo las columnas Origin, Dest, DayOfWeek, ArrDelay y avgDelay del resultado.\n",
    "</div>"
   ]
  },
  {
   "cell_type": "code",
   "execution_count": 13,
   "metadata": {
    "scrolled": true
   },
   "outputs": [
    {
     "name": "stdout",
     "output_type": "stream",
     "text": [
      "+----------------+--------------------+-------------------+-------------------+\n",
      "|      OriginCity|            DestCity|           r_salida|          r_llegada|\n",
      "+----------------+--------------------+-------------------+-------------------+\n",
      "|     Detroit, MI|      Burlington, VT|  11.60135135135135|  4.913494809688581|\n",
      "|  Bellingham, WA|       Las Vegas, NV| 2.1762452107279695|-3.5440613026819925|\n",
      "|     Sanford, FL|    Indianapolis, IN| 14.444444444444445|  8.737373737373737|\n",
      "|  South Bend, IN|  St. Petersburg, FL|-3.6964285714285716| -6.982142857142857|\n",
      "|     Phoenix, AZ|        Stockton, CA| 3.9705882352941178|            2.09375|\n",
      "|   Las Vegas, NV|          Moline, IL|-3.2857142857142856|-10.441176470588236|\n",
      "|   Charlotte, NC|      Washington, DC|  8.382391022874407|  4.987467588591184|\n",
      "|      Denver, CO|   Santa Barbara, CA|  7.178082191780822| 10.822299651567944|\n",
      "|      Denver, CO|Dallas/Fort Worth...|  7.900255754475704|  4.390657084188912|\n",
      "|     Phoenix, AZ|         Roswell, NM| 2.1596638655462184| -6.352941176470588|\n",
      "|Palm Springs, CA|  Salt Lake City, UT|  5.715909090909091| -0.396011396011396|\n",
      "|     Bozeman, MT|         Chicago, IL| 21.338582677165356|  17.65748031496063|\n",
      "|     Chicago, IL|       Kalamazoo, MI|  12.33041958041958|  7.796819787985866|\n",
      "|  Pittsburgh, PA|       Nashville, TN| 12.611510791366907|  8.028776978417266|\n",
      "|     Burbank, CA|      Sacramento, CA|  9.581838565022421|  4.530269058295964|\n",
      "|      Dallas, TX|          Denver, CO| 15.034610630407911|  9.011138613861386|\n",
      "|   Rochester, NY|         Chicago, IL|  7.306791569086651|    4.2981220657277|\n",
      "|  Providence, RI|    Philadelphia, PA| 3.1226415094339623|-1.1149606299212598|\n",
      "|    New York, NY|    Philadelphia, PA|  9.116918844566712| 0.8074792243767313|\n",
      "|       Miami, FL|           Tampa, FL|  7.894586894586895|  2.908831908831909|\n",
      "+----------------+--------------------+-------------------+-------------------+\n",
      "only showing top 20 rows\n",
      "\n"
     ]
    }
   ],
   "source": [
    "averageDelayOriginDestDF= cleanFlightsDF.groupBy(\"OriginCity\", \"DestCity\")\\\n",
    "                .agg(avg(\"DepDelay\").alias(\"r_salida\"), avg(\"ArrDelay\").alias(\"r_llegada\"))\n",
    "\n",
    "averageDelayOriginDestDF.show()"
   ]
  },
  {
   "cell_type": "markdown",
   "metadata": {},
   "source": [
    "Opcion 1:"
   ]
  },
  {
   "cell_type": "code",
   "execution_count": 14,
   "metadata": {},
   "outputs": [],
   "source": [
    "averageDelayOriginDestDF= averageDelayOriginDestDF.withColumnRenamed(\"OriginCity\", \"Origen\").withColumnRenamed(\"DestCity\", \"Dest\")"
   ]
  },
  {
   "cell_type": "code",
   "execution_count": 15,
   "metadata": {},
   "outputs": [],
   "source": [
    "joinExpression= (averageDelayOriginDestDF[\"Origen\"] == cleanFlightsDF[\"OriginCity\"]) & (averageDelayOriginDestDF[\"Dest\"] == cleanFlightsDF[\"DestCity\"])\n",
    "joinType=\"left_outer\""
   ]
  },
  {
   "cell_type": "code",
   "execution_count": 16,
   "metadata": {
    "scrolled": true
   },
   "outputs": [
    {
     "data": {
      "text/plain": [
       "[Row(Month=3, DayofMonth=24, DayOfWeek=6, FlightDate='2018-03-24', Origin='SAN', OriginCity='San Diego, CA', Dest='LAX', DestCity='Los Angeles, CA', DepTime=750, DepDelay=0.0, ArrTime=836, ArrDelay=-21.0, Cancelled=0.0, CancellationCode=None, Diverted=0.0, ActualElapsedTime=46.0, AirTime=26.0, Distance=109.0, CarrierDelay=None, WeatherDelay=None, NASDelay=None, SecurityDelay=None, LateAircraftDelay=None, ArrDelayCat='None', Origen='San Diego, CA', Dest='Los Angeles, CA', r_salida=6.496754867698452, r_llegada=3.2770843734398403),\n",
       " Row(Month=1, DayofMonth=23, DayOfWeek=2, FlightDate='2018-01-23', Origin='MBS', OriginCity='Saginaw/Bay City/Midland, MI', Dest='DTW', DestCity='Detroit, MI', DepTime=531, DepDelay=-4.0, ArrTime=612, ArrDelay=-28.0, Cancelled=0.0, CancellationCode=None, Diverted=0.0, ActualElapsedTime=41.0, AirTime=22.0, Distance=98.0, CarrierDelay=None, WeatherDelay=None, NASDelay=None, SecurityDelay=None, LateAircraftDelay=None, ArrDelayCat='None', Origen='Saginaw/Bay City/Midland, MI', Dest='Detroit, MI', r_salida=6.9275092936802976, r_llegada=0.935064935064935)]"
      ]
     },
     "execution_count": 16,
     "metadata": {},
     "output_type": "execute_result"
    }
   ],
   "source": [
    "DF = cleanFlightsDF.join(averageDelayOriginDestDF, joinExpression,  joinType)\n",
    "DF.take(2)"
   ]
  },
  {
   "cell_type": "code",
   "execution_count": 17,
   "metadata": {},
   "outputs": [
    {
     "data": {
      "text/plain": [
       "[Row(Month=1, DayofMonth=19, DayOfWeek=5, FlightDate='2018-01-19', Origin='BLI', OriginCity='Bellingham, WA', DestCity='Las Vegas, NV', DepTime=1925, DepDelay=3.0, ArrTime=2154, ArrDelay=1.0, Cancelled=0.0, CancellationCode=None, Diverted=0.0, ActualElapsedTime=149.0, AirTime=136.0, Distance=954.0, CarrierDelay=None, WeatherDelay=None, NASDelay=None, SecurityDelay=None, LateAircraftDelay=None, ArrDelayCat='None', r_salida=2.1762452107279695, r_llegada=-3.5440613026819925)]"
      ]
     },
     "execution_count": 17,
     "metadata": {},
     "output_type": "execute_result"
    }
   ],
   "source": [
    "DF = DF.drop(\"Origen\", \"Dest\")\n",
    "DF.take(1)"
   ]
  },
  {
   "cell_type": "code",
   "execution_count": 95,
   "metadata": {},
   "outputs": [
    {
     "name": "stdout",
     "output_type": "stream",
     "text": [
      "+--------------+-------------+---------+------------------+-------------------+\n",
      "|    OriginCity|     DestCity|DayOfWeek|          r_salida|          r_llegada|\n",
      "+--------------+-------------+---------+------------------+-------------------+\n",
      "|Bellingham, WA|Las Vegas, NV|        5|2.1762452107279695|-3.5440613026819925|\n",
      "|Bellingham, WA|Las Vegas, NV|        6|2.1762452107279695|-3.5440613026819925|\n",
      "|Bellingham, WA|Las Vegas, NV|        7|2.1762452107279695|-3.5440613026819925|\n",
      "|Bellingham, WA|Las Vegas, NV|        7|2.1762452107279695|-3.5440613026819925|\n",
      "|Bellingham, WA|Las Vegas, NV|        7|2.1762452107279695|-3.5440613026819925|\n",
      "|Bellingham, WA|Las Vegas, NV|        1|2.1762452107279695|-3.5440613026819925|\n",
      "|Bellingham, WA|Las Vegas, NV|        1|2.1762452107279695|-3.5440613026819925|\n",
      "|Bellingham, WA|Las Vegas, NV|        2|2.1762452107279695|-3.5440613026819925|\n",
      "|Bellingham, WA|Las Vegas, NV|        3|2.1762452107279695|-3.5440613026819925|\n",
      "|Bellingham, WA|Las Vegas, NV|        4|2.1762452107279695|-3.5440613026819925|\n",
      "|Bellingham, WA|Las Vegas, NV|        4|2.1762452107279695|-3.5440613026819925|\n",
      "|Bellingham, WA|Las Vegas, NV|        5|2.1762452107279695|-3.5440613026819925|\n",
      "|Bellingham, WA|Las Vegas, NV|        5|2.1762452107279695|-3.5440613026819925|\n",
      "|Bellingham, WA|Las Vegas, NV|        6|2.1762452107279695|-3.5440613026819925|\n",
      "|Bellingham, WA|Las Vegas, NV|        7|2.1762452107279695|-3.5440613026819925|\n",
      "|Bellingham, WA|Las Vegas, NV|        7|2.1762452107279695|-3.5440613026819925|\n",
      "|Bellingham, WA|Las Vegas, NV|        7|2.1762452107279695|-3.5440613026819925|\n",
      "|Bellingham, WA|Las Vegas, NV|        1|2.1762452107279695|-3.5440613026819925|\n",
      "|Bellingham, WA|Las Vegas, NV|        1|2.1762452107279695|-3.5440613026819925|\n",
      "|Bellingham, WA|Las Vegas, NV|        2|2.1762452107279695|-3.5440613026819925|\n",
      "+--------------+-------------+---------+------------------+-------------------+\n",
      "only showing top 20 rows\n",
      "\n"
     ]
    }
   ],
   "source": [
    "DF.select(\"OriginCity\", \"DestCity\", \"DayOfWeek\", \"r_salida\", \"r_llegada\").show()"
   ]
  },
  {
   "cell_type": "markdown",
   "metadata": {},
   "source": [
    "Opcion 2"
   ]
  },
  {
   "cell_type": "code",
   "execution_count": 20,
   "metadata": {},
   "outputs": [],
   "source": [
    "ta = cleanFlightsDF.alias(\"ta\")\n",
    "tb = averageDelayOriginDestDF.alias(\"tb\")\n",
    "df1 = cleanFlightsDF.join(averageDelayOriginDestDF, (ta.OriginCity == tb.Origen) & (ta.DestCity == tb.Dest), how=\"left\").select(ta[\"*\"],tb[\"r_llegada\"],tb[\"r_salida\"])"
   ]
  },
  {
   "cell_type": "code",
   "execution_count": 21,
   "metadata": {},
   "outputs": [
    {
     "name": "stdout",
     "output_type": "stream",
     "text": [
      "+--------------+-------------+---------+------------------+-------------------+\n",
      "|    OriginCity|     DestCity|DayOfWeek|          r_salida|          r_llegada|\n",
      "+--------------+-------------+---------+------------------+-------------------+\n",
      "|Bellingham, WA|Las Vegas, NV|        5|2.1762452107279695|-3.5440613026819925|\n",
      "|Bellingham, WA|Las Vegas, NV|        6|2.1762452107279695|-3.5440613026819925|\n",
      "|Bellingham, WA|Las Vegas, NV|        7|2.1762452107279695|-3.5440613026819925|\n",
      "|Bellingham, WA|Las Vegas, NV|        7|2.1762452107279695|-3.5440613026819925|\n",
      "|Bellingham, WA|Las Vegas, NV|        7|2.1762452107279695|-3.5440613026819925|\n",
      "|Bellingham, WA|Las Vegas, NV|        1|2.1762452107279695|-3.5440613026819925|\n",
      "|Bellingham, WA|Las Vegas, NV|        1|2.1762452107279695|-3.5440613026819925|\n",
      "|Bellingham, WA|Las Vegas, NV|        2|2.1762452107279695|-3.5440613026819925|\n",
      "|Bellingham, WA|Las Vegas, NV|        3|2.1762452107279695|-3.5440613026819925|\n",
      "|Bellingham, WA|Las Vegas, NV|        4|2.1762452107279695|-3.5440613026819925|\n",
      "|Bellingham, WA|Las Vegas, NV|        4|2.1762452107279695|-3.5440613026819925|\n",
      "|Bellingham, WA|Las Vegas, NV|        5|2.1762452107279695|-3.5440613026819925|\n",
      "|Bellingham, WA|Las Vegas, NV|        5|2.1762452107279695|-3.5440613026819925|\n",
      "|Bellingham, WA|Las Vegas, NV|        6|2.1762452107279695|-3.5440613026819925|\n",
      "|Bellingham, WA|Las Vegas, NV|        7|2.1762452107279695|-3.5440613026819925|\n",
      "|Bellingham, WA|Las Vegas, NV|        7|2.1762452107279695|-3.5440613026819925|\n",
      "|Bellingham, WA|Las Vegas, NV|        7|2.1762452107279695|-3.5440613026819925|\n",
      "|Bellingham, WA|Las Vegas, NV|        1|2.1762452107279695|-3.5440613026819925|\n",
      "|Bellingham, WA|Las Vegas, NV|        1|2.1762452107279695|-3.5440613026819925|\n",
      "|Bellingham, WA|Las Vegas, NV|        2|2.1762452107279695|-3.5440613026819925|\n",
      "+--------------+-------------+---------+------------------+-------------------+\n",
      "only showing top 20 rows\n",
      "\n"
     ]
    }
   ],
   "source": [
    "df1.select(\"OriginCity\", \"DestCity\", \"DayOfWeek\", \"r_salida\", \"r_llegada\").show()"
   ]
  },
  {
   "cell_type": "markdown",
   "metadata": {},
   "source": [
    "<div class=\"alert alert-block alert-info\">\n",
    "    <p><b>BONUS (OPCIONAL)</b>: crear una nueva columna <i>belowAverage</i> que tenga valor True si ArrDelay es menor que el avgDelay de esa ruta, y False en caso contrario. No utilizar la función when() sino el operador de comparación directamente entre columnas, la cual devolverá una columna booleana.\n",
    "</div>"
   ]
  },
  {
   "cell_type": "code",
   "execution_count": 29,
   "metadata": {},
   "outputs": [],
   "source": [
    "b_avg = df1.withColumn(\"belowAverage\", col(\"ArrDelay\")<col(\"r_llegada\"))"
   ]
  },
  {
   "cell_type": "code",
   "execution_count": 31,
   "metadata": {},
   "outputs": [
    {
     "name": "stdout",
     "output_type": "stream",
     "text": [
      "+--------------+-------------+--------+-------------------+------------+\n",
      "|    OriginCity|     DestCity|ArrDelay|          r_llegada|belowAverage|\n",
      "+--------------+-------------+--------+-------------------+------------+\n",
      "|Bellingham, WA|Las Vegas, NV|     1.0|-3.5440613026819925|       false|\n",
      "|Bellingham, WA|Las Vegas, NV|    -6.0|-3.5440613026819925|        true|\n",
      "|Bellingham, WA|Las Vegas, NV|   -11.0|-3.5440613026819925|        true|\n",
      "|Bellingham, WA|Las Vegas, NV|   -13.0|-3.5440613026819925|        true|\n",
      "|Bellingham, WA|Las Vegas, NV|    -8.0|-3.5440613026819925|        true|\n",
      "|Bellingham, WA|Las Vegas, NV|   -21.0|-3.5440613026819925|        true|\n",
      "|Bellingham, WA|Las Vegas, NV|   -16.0|-3.5440613026819925|        true|\n",
      "|Bellingham, WA|Las Vegas, NV|    -7.0|-3.5440613026819925|        true|\n",
      "|Bellingham, WA|Las Vegas, NV|     0.0|-3.5440613026819925|       false|\n",
      "|Bellingham, WA|Las Vegas, NV|   -10.0|-3.5440613026819925|        true|\n",
      "|Bellingham, WA|Las Vegas, NV|   -13.0|-3.5440613026819925|        true|\n",
      "|Bellingham, WA|Las Vegas, NV|   -22.0|-3.5440613026819925|        true|\n",
      "|Bellingham, WA|Las Vegas, NV|   -19.0|-3.5440613026819925|        true|\n",
      "|Bellingham, WA|Las Vegas, NV|   -10.0|-3.5440613026819925|        true|\n",
      "|Bellingham, WA|Las Vegas, NV|   -18.0|-3.5440613026819925|        true|\n",
      "|Bellingham, WA|Las Vegas, NV|   -10.0|-3.5440613026819925|        true|\n",
      "|Bellingham, WA|Las Vegas, NV|   -12.0|-3.5440613026819925|        true|\n",
      "|Bellingham, WA|Las Vegas, NV|   -13.0|-3.5440613026819925|        true|\n",
      "|Bellingham, WA|Las Vegas, NV|   -30.0|-3.5440613026819925|        true|\n",
      "|Bellingham, WA|Las Vegas, NV|   -15.0|-3.5440613026819925|        true|\n",
      "+--------------+-------------+--------+-------------------+------------+\n",
      "only showing top 20 rows\n",
      "\n"
     ]
    }
   ],
   "source": [
    "b_avg.select(\"OriginCity\", \"DestCity\", \"ArrDelay\", \"r_llegada\", \"belowAverage\").show()"
   ]
  },
  {
   "cell_type": "markdown",
   "metadata": {},
   "source": [
    "**PREGUNTA**: repetir la operación utilizando funciones de ventana, sin usar `join`."
   ]
  },
  {
   "cell_type": "markdown",
   "metadata": {},
   "source": [
    "<div class=\"alert alert-block alert-success\">\n",
    "<b> PREGUNTA </b>: Vamos a construir otro DF con información sobre los aeropuertos (en una situación real, tendríamos otra tabla en la base de datos como la tabla de la entidad Aeropuerto). Sin embargo, solo tenemos información sobre algunos aeropuertos. Nos gustaría agregar esta información a cleanFlightsDF como nuevas columnas, teniendo en cuenta que queremos que la información del aeropuerto coincida con el aeropuerto de origen de flightsDF. Utilizar la operación de unión adecuada para asegurarse de que no se perderá ninguna de las filas existentes de cleanFlightsDF después de la unión.\n",
    "</div>"
   ]
  },
  {
   "cell_type": "code",
   "execution_count": 36,
   "metadata": {},
   "outputs": [],
   "source": [
    "airportsDF = spark.createDataFrame([\n",
    "    (\"JFK\", \"John F. Kennedy International Airport\", 1948),\n",
    "    (\"LIT\", \"Little Rock National Airport\", 1931),\n",
    "    (\"SEA\", \"Seattle-Tacoma International Airport\", 1949),\n",
    "], [\"IATA\", \"FullName\", \"Year\"])"
   ]
  },
  {
   "cell_type": "code",
   "execution_count": 38,
   "metadata": {},
   "outputs": [],
   "source": [
    "joinExpression= (airportsDF[\"IATA\"]==cleanFlightsDF[\"Origin\"])\n",
    "joinType=\"left_outer\""
   ]
  },
  {
   "cell_type": "code",
   "execution_count": 41,
   "metadata": {},
   "outputs": [],
   "source": [
    "ta = cleanFlightsDF.alias(\"ta\")\n",
    "tb = airportsDF.alias(\"tb\")\n",
    "joinedFlightsDF =  cleanFlightsDF.join(airportsDF, joinExpression, joinType).select(ta[\"*\"],tb[\"FullName\"],tb[\"Year\"])"
   ]
  },
  {
   "cell_type": "code",
   "execution_count": 62,
   "metadata": {},
   "outputs": [
    {
     "data": {
      "text/plain": [
       "[Row(Month=1, DayofMonth=2, DayOfWeek=2, FlightDate='2018-01-02', Origin='BGM', OriginCity='Binghamton, NY', Dest='DTW', DestCity='Detroit, MI', DepTime=552, DepDelay=-9.0, ArrTime=747, ArrDelay=-2.0, Cancelled=0.0, CancellationCode=None, Diverted=0.0, ActualElapsedTime=115.0, AirTime=69.0, Distance=378.0, CarrierDelay=None, WeatherDelay=None, NASDelay=None, SecurityDelay=None, LateAircraftDelay=None, ArrDelayCat='None', FullName=None, Year=None)]"
      ]
     },
     "execution_count": 62,
     "metadata": {},
     "output_type": "execute_result"
    }
   ],
   "source": [
    "joinedFlightsDF.take(1)"
   ]
  },
  {
   "cell_type": "code",
   "execution_count": 74,
   "metadata": {},
   "outputs": [
    {
     "name": "stdout",
     "output_type": "stream",
     "text": [
      "+--------------------+------+----+\n",
      "|            FullName|Origin|Dest|\n",
      "+--------------------+------+----+\n",
      "|Seattle-Tacoma In...|   SEA| JFK|\n",
      "|Seattle-Tacoma In...|   SEA| LGB|\n",
      "|Seattle-Tacoma In...|   SEA| BOS|\n",
      "|Seattle-Tacoma In...|   SEA| BOS|\n",
      "|Seattle-Tacoma In...|   SEA| LGB|\n",
      "|Seattle-Tacoma In...|   SEA| JFK|\n",
      "|Seattle-Tacoma In...|   SEA| LGB|\n",
      "|Seattle-Tacoma In...|   SEA| BOS|\n",
      "|Seattle-Tacoma In...|   SEA| BOS|\n",
      "|Seattle-Tacoma In...|   SEA| LGB|\n",
      "|Seattle-Tacoma In...|   SEA| JFK|\n",
      "|Seattle-Tacoma In...|   SEA| LGB|\n",
      "|Seattle-Tacoma In...|   SEA| BOS|\n",
      "|Seattle-Tacoma In...|   SEA| BOS|\n",
      "|Seattle-Tacoma In...|   SEA| LGB|\n",
      "|Seattle-Tacoma In...|   SEA| JFK|\n",
      "|Seattle-Tacoma In...|   SEA| LGB|\n",
      "|Seattle-Tacoma In...|   SEA| BOS|\n",
      "|Seattle-Tacoma In...|   SEA| BOS|\n",
      "|Seattle-Tacoma In...|   SEA| LGB|\n",
      "+--------------------+------+----+\n",
      "only showing top 20 rows\n",
      "\n"
     ]
    }
   ],
   "source": [
    "# PREGUNTA: mostrar algunas filas donde FullName no sea null\n",
    "joinedFlightsDF.select(\"FullName\", \"Origin\", \"Dest\").where(col(\"FullName\") != \"UNKOWN\").show()"
   ]
  },
  {
   "cell_type": "markdown",
   "metadata": {},
   "source": [
    "## User-defined functions (UDFs)"
   ]
  },
  {
   "cell_type": "markdown",
   "metadata": {},
   "source": [
    "Vamos a construir un UDF para convertir millas a kilómetros. Ten en cuenta que esto podría hacerse fácilmente multiplicando directamente la columna de millas por 1.6 (y sería mucho más eficiente), ya que Spark permite el producto entre una columna y un número. En todos los casos en los que Spark proporciona funciones integradas para realizar una tarea (como esta), debes usar esas funciones y no una UDF. Las UDF deben emplearse solo cuando no hay otra opción.\n",
    "\n",
    "La razón es que las funciones integradas de Spark están optimizadas y Catalyst, el optimizador automático de código integrado en Spark, puede optimizarlo aún más. Sin embargo, las UDF son una caja negra para Catalyst y su contenido no se optimizará, y por lo tanto, generalmente son mucho más lentas."
   ]
  },
  {
   "cell_type": "code",
   "execution_count": 75,
   "metadata": {},
   "outputs": [
    {
     "name": "stdout",
     "output_type": "stream",
     "text": [
      "8.0\n",
      "+------+----+--------+------------------+\n",
      "|Origin|Dest|Distance|            DistKM|\n",
      "+------+----+--------+------------------+\n",
      "|   CLE| JFK|   425.0|             680.0|\n",
      "|   MCO| PSE|  1179.0|            1886.4|\n",
      "|   FLL| DTW|  1127.0|            1803.2|\n",
      "|   LAX| MTJ|   666.0|1065.6000000000001|\n",
      "|   AZA| MLI|  1288.0|            2060.8|\n",
      "+------+----+--------+------------------+\n",
      "only showing top 5 rows\n",
      "\n"
     ]
    }
   ],
   "source": [
    "from pyspark.sql.functions import udf\n",
    "from pyspark.sql.types import DoubleType\n",
    "\n",
    "# Primer paso: crear una función de Python que reciba UN número y lo multiplique por 1.6\n",
    "def milesToKm(miles):\n",
    "    return miles*1.6\n",
    "\n",
    "# Vamos a probarla\n",
    "print(milesToKm(5)) # 5 millas a km: 8 km\n",
    "\n",
    "# Segundo paso: crear un objeto UDF que envuelva a nuestra función. \n",
    "# Hay que especificar el tipo de dato que devuelve nuestra función\n",
    "udfMilesToKm = F.udf(milesToKm, DoubleType())\n",
    "\n",
    "# Con esto, Spark será capaz de llamar a nuestra función milesToKm sobre cada uno de los valores de una columna numérica.\n",
    "# Spark enviará el código de nuestra función a los executors a través de la red, y cada executor la ejecutará sobre las\n",
    "# particiones (una por una) que estén en ese executor\n",
    "\n",
    "# Tercer paso: vamos a probar la UDF añadiendo una nueva columna con el resultado de la conversión\n",
    "flightsWithKm = cleanFlightsDF.withColumn(\"DistKm\", udfMilesToKm(F.col(\"Distance\")))\n",
    "\n",
    "flightsWithKm.select(\"Origin\", \"Dest\", \"Distance\", \"DistKM\")\\\n",
    "             .distinct()\\\n",
    "             .show(5)"
   ]
  },
  {
   "cell_type": "markdown",
   "metadata": {},
   "source": [
    "<div class=\"alert alert-block alert-info\">\n",
    "<p><b>BONUS</b>: Crea tu propia UDF que convierta DayOfWeek en una cadena.\n",
    "Puedes hacerlo creando una función de Python que reciba un número entero y devuelva el día de la semana,\n",
    "simplemente leyendo desde un vector de cadenas de longitud 7 el valor en la posición indicada por el argumento entero. Para la UDF, recuerda que tu función devuelve un StringType(). Finalmente, prueba tu UDF creando una nueva columna \"DayOfWeekString\".\n",
    "</div>"
   ]
  },
  {
   "cell_type": "code",
   "execution_count": 78,
   "metadata": {},
   "outputs": [
    {
     "name": "stdout",
     "output_type": "stream",
     "text": [
      "Tuesday\n",
      "+------+----+---------+---------------+\n",
      "|Origin|Dest|DayOfWeek|DayOfWeekString|\n",
      "+------+----+---------+---------------+\n",
      "|   BQK| ATL|        4|       Thursday|\n",
      "|   CVG| PHL|        3|      Wednesday|\n",
      "|   DTW| DFW|        5|         Friday|\n",
      "|   SEA| JFK|        2|        Tuesday|\n",
      "|   JAX| JFK|        2|        Tuesday|\n",
      "|   RDU| BOS|        3|      Wednesday|\n",
      "|   SEA| BOS|        3|      Wednesday|\n",
      "|   AUS| FLL|        3|      Wednesday|\n",
      "|   JFK| LAS|        5|         Friday|\n",
      "|   SLC| BOS|        6|       Saturday|\n",
      "|   BOS| HOU|        6|       Saturday|\n",
      "|   BDL| MCO|        7|         Sunday|\n",
      "|   SJU| TPA|        7|         Sunday|\n",
      "|   PGD| TYS|        6|       Saturday|\n",
      "|   PIE| CVG|        6|       Saturday|\n",
      "|   ABE| SFB|        7|         Sunday|\n",
      "|   LAS| BIS|        7|         Sunday|\n",
      "|   ROC| PGD|        1|         Monday|\n",
      "|   EWR| CVG|        1|         Monday|\n",
      "|   CVG| SFB|        1|         Monday|\n",
      "+------+----+---------+---------------+\n",
      "only showing top 20 rows\n",
      "\n"
     ]
    }
   ],
   "source": [
    "from pyspark.sql.types import StringType\n",
    "\n",
    "# Primer paso: creamos una función de python que convierte un número entero en el día de la semana como cadena\n",
    "def dayOfWeekToString(dayInteger):\n",
    "    # En nuestros datos Monday es 1 pero las listas de python empiezan en el 0 y \n",
    "    # queremos usar el dayInteger como índice del vector\n",
    "    daysOfWeek = [\"\", \"Monday\", \"Tuesday\", \"Wednesday\", \"Thursday\", \"Friday\", \"Saturday\", \"Sunday\"]\n",
    "    return daysOfWeek[dayInteger]\n",
    "    \n",
    "print(dayOfWeekToString(2))\n",
    "\n",
    "# Segundo paso: ajustamos nuestra función con un Spark UDF para que Spark pueda invocarlo en cada valor de una columna completa\n",
    "# De esta manera, Spark puede enviar nuestra función a los ejecutores, que eventualmente ejecutarán la función en las particiones\n",
    "# de los datos que tiene cada ejecutor\n",
    "dayOfWeekStringUDF = F.udf(dayOfWeekToString, StringType())\n",
    "\n",
    "# Tercer paso: intentemos nuestro UDF agregando una nueva columna que resulta de transformar (a través del UDF) el\n",
    "# columna existente DayOfWeek\n",
    "flightsWithDayOfWeekStr = cleanFlightsDF.withColumn(\"DayOfWeekString\", dayOfWeekStringUDF(F.col(\"DayOfWeek\")))\n",
    "\n",
    "flightsWithDayOfWeekStr.select(\"Origin\", \"Dest\", \"DayOfWeek\", \"DayOfWeekString\")\\\n",
    "                       .distinct()\\\n",
    "                       .show()"
   ]
  }
 ],
 "metadata": {
  "kernelspec": {
   "display_name": "Python 3",
   "language": "python",
   "name": "python3"
  },
  "language_info": {
   "codemirror_mode": {
    "name": "ipython",
    "version": 3
   },
   "file_extension": ".py",
   "mimetype": "text/x-python",
   "name": "python",
   "nbconvert_exporter": "python",
   "pygments_lexer": "ipython3",
   "version": "3.8.8"
  }
 },
 "nbformat": 4,
 "nbformat_minor": 2
}
